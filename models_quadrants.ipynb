{
  "nbformat": 4,
  "nbformat_minor": 0,
  "metadata": {
    "colab": {
      "provenance": []
    },
    "kernelspec": {
      "name": "python3",
      "display_name": "Python 3"
    },
    "language_info": {
      "name": "python"
    }
  },
  "cells": [
    {
      "cell_type": "code",
      "execution_count": 1,
      "metadata": {
        "id": "Kh1UFKWzSBjn"
      },
      "outputs": [],
      "source": [
        "#Imports Needed\n",
        "import matplotlib.pyplot as plt\n",
        "import cv2\n",
        "import tensorflow as tf\n",
        "import numpy as np\n",
        "import keras\n",
        "from keras.datasets import mnist\n",
        "from keras.layers import Dense, Flatten\n",
        "from keras.layers.convolutional import Conv2D\n",
        "from keras.models import Sequential\n",
        "from keras.utils import to_categorical"
      ]
    },
    {
      "cell_type": "code",
      "source": [
        "#Loading the dataset\n",
        "(x_train, y_train), (x_test, y_test) = mnist.load_data()"
      ],
      "metadata": {
        "id": "0nHSqbRTSYLk",
        "colab": {
          "base_uri": "https://localhost:8080/"
        },
        "outputId": "d238b949-e35c-4cdb-ebbb-ce340194e801"
      },
      "execution_count": 2,
      "outputs": [
        {
          "output_type": "stream",
          "name": "stdout",
          "text": [
            "Downloading data from https://storage.googleapis.com/tensorflow/tf-keras-datasets/mnist.npz\n",
            "11490434/11490434 [==============================] - 0s 0us/step\n"
          ]
        }
      ]
    },
    {
      "cell_type": "code",
      "source": [
        "x_train_topleft = []\n",
        "y_train_topleft = []\n",
        "x_train_topright = []\n",
        "y_train_topright = []\n",
        "x_train_bottomleft = []\n",
        "y_train_bottomleft = []\n",
        "x_train_bottomright = []\n",
        "y_train_bottomright = []\n",
        "for i,image in enumerate(x_train):\n",
        "    topleft = image[:14,:14]\n",
        "    bottomleft = image[14:28,:14]\n",
        "    topright = image[:14,14:28]\n",
        "    bottomright = image[14:28,14:28]\n",
        "    x_train_topleft.append(topleft)\n",
        "    x_train_bottomleft.append(bottomleft)\n",
        "    x_train_topright.append(topright)\n",
        "    x_train_bottomright.append(bottomright)\n",
        "    y_train_topleft.append(y_train[i])\n",
        "    y_train_bottomleft.append(y_train[i])\n",
        "    y_train_topright.append(y_train[i])\n",
        "    y_train_bottomright.append(y_train[i])\n",
        "\n",
        "x_train_numpy_topleft = np.array(x_train_topleft)\n",
        "y_train_numpy_topleft = np.array(y_train_topleft)\n",
        "\n",
        "x_train_numpy_bottomleft = np.array(x_train_bottomleft)\n",
        "y_train_numpy_bottomleft = np.array(y_train_bottomleft)\n",
        "\n",
        "x_train_numpy_topright = np.array(x_train_topright)\n",
        "y_train_numpy_topright = np.array(y_train_topright)\n",
        "\n",
        "x_train_numpy_bottomright = np.array(x_train_bottomright)\n",
        "y_train_numpy_bottomright = np.array(y_train_bottomright)\n",
        "\n",
        "\n",
        "x_test_topleft = []\n",
        "y_test_topleft = []\n",
        "x_test_bottomleft = []\n",
        "y_test_bottomleft = []\n",
        "x_test_topright = []\n",
        "y_test_topright = []\n",
        "x_test_bottomright = []\n",
        "y_test_bottomright = []\n",
        "for i,image in enumerate(x_test):\n",
        "    topleft = image[:14,:14]\n",
        "    bottomleft = image[14:28,:14]\n",
        "    topright = image[:14,14:28]\n",
        "    bottomright = image[14:28,14:28]\n",
        "    x_test_topleft.append(topleft)\n",
        "    x_test_bottomleft.append(bottomleft)\n",
        "    x_test_topright.append(topright)\n",
        "    x_test_bottomright.append(bottomright)\n",
        "    y_test_topleft.append(y_test[i])\n",
        "    y_test_bottomleft.append(y_test[i])\n",
        "    y_test_topright.append(y_test[i])\n",
        "    y_test_bottomright.append(y_test[i])\n",
        "\n",
        "x_test_numpy_topleft = np.array(x_test_topleft)\n",
        "y_test_numpy_topleft = np.array(y_test_topleft)\n",
        "x_test_numpy_bottomleft = np.array(x_test_bottomleft)\n",
        "y_test_numpy_bottomleft = np.array(y_test_bottomleft)\n",
        "x_test_numpy_topright = np.array(x_test_topright)\n",
        "y_test_numpy_topright = np.array(y_test_topright)\n",
        "x_test_numpy_bottomright = np.array(x_test_bottomright)\n",
        "y_test_numpy_bottomright = np.array(y_test_bottomright)"
      ],
      "metadata": {
        "id": "m6eusRuQfOLk"
      },
      "execution_count": 3,
      "outputs": []
    },
    {
      "cell_type": "code",
      "source": [
        "#Understanding the dataset\n",
        "print (\"Number of images in training dataset: {}\".format(len(x_train_numpy_topright)))\n",
        "print (\"Number of images in testing dataset: {}\".format(len(x_test_numpy_topright)))\n",
        "print (\"Shape of training image: {}\".format(x_train_numpy_topright[0].shape))\n",
        "print (\"Shape of testing image: {}\".format(x_test_numpy_topright[0].shape))"
      ],
      "metadata": {
        "colab": {
          "base_uri": "https://localhost:8080/"
        },
        "id": "P2mM-CIHSw9q",
        "outputId": "96f1f1c0-ae27-4131-e71b-8927d1f5aaec"
      },
      "execution_count": 5,
      "outputs": [
        {
          "output_type": "stream",
          "name": "stdout",
          "text": [
            "Number of images in training dataset: 60000\n",
            "Number of images in testing dataset: 10000\n",
            "Shape of training image: (14, 14)\n",
            "Shape of testing image: (14, 14)\n"
          ]
        }
      ]
    },
    {
      "cell_type": "code",
      "source": [
        "x_train_topleft = x_train_numpy_topleft.reshape(60000, 14, 14, 1)\n",
        "x_train_bottomleft = x_train_numpy_bottomleft.reshape(60000, 14, 14, 1)\n",
        "\n",
        "x_train_topright = x_train_numpy_topright.reshape(60000, 14, 14, 1)\n",
        "x_train_bottomright = x_train_numpy_bottomright.reshape(60000, 14, 14, 1)\n",
        "\n",
        "x_test_topleft = x_test_numpy_topleft.reshape(10000, 14, 14, 1)\n",
        "x_test_bottomleft = x_test_numpy_bottomleft.reshape(10000, 14, 14, 1)\n",
        "x_test_topright = x_test_numpy_topright.reshape(10000, 14, 14, 1)\n",
        "x_test_bottomright = x_test_numpy_bottomright.reshape(10000, 14, 14, 1)"
      ],
      "metadata": {
        "id": "_EcvjMHTS94p"
      },
      "execution_count": 6,
      "outputs": []
    },
    {
      "cell_type": "code",
      "source": [
        "print (\"Shape of training image after reshape: {}\".format(y_train_topleft[0].shape))\n",
        "print (\"Shape of testing image after reshape: {}\".format(y_test_topleft[0].shape))"
      ],
      "metadata": {
        "colab": {
          "base_uri": "https://localhost:8080/"
        },
        "id": "ZogvDbknTChC",
        "outputId": "81c49a88-398b-41eb-dd3a-ef5492308276"
      },
      "execution_count": 10,
      "outputs": [
        {
          "output_type": "stream",
          "name": "stdout",
          "text": [
            "Shape of training image after reshape: (10,)\n",
            "Shape of testing image after reshape: (10,)\n"
          ]
        }
      ]
    },
    {
      "cell_type": "code",
      "source": [
        "y_train_topleft = to_categorical(y_train_numpy_topleft)\n",
        "y_test_topleft = to_categorical(y_test_numpy_topleft)\n",
        "\n",
        "y_train_bottomleft = to_categorical(y_train_numpy_bottomleft)\n",
        "y_test_bottomleft = to_categorical(y_test_numpy_bottomleft)\n",
        "\n",
        "y_train_topright = to_categorical(y_train_numpy_topright)\n",
        "y_test_topright = to_categorical(y_test_numpy_topright)\n",
        "\n",
        "y_train_bottomright = to_categorical(y_train_numpy_bottomright)\n",
        "y_test_bottomright = to_categorical(y_test_numpy_bottomright)"
      ],
      "metadata": {
        "id": "2O-zFoViTJi6"
      },
      "execution_count": 9,
      "outputs": []
    },
    {
      "cell_type": "code",
      "source": [],
      "metadata": {
        "id": "sq9WSu7NeDU8"
      },
      "execution_count": null,
      "outputs": []
    },
    {
      "cell_type": "code",
      "source": [
        "#Building the model\n",
        "model_topleft = Sequential([\n",
        "Conv2D(32, kernel_size=3, activation='relu', input_shape=(14, 14, 1)),\n",
        "Conv2D(64, kernel_size=3, activation='relu'),\n",
        "Flatten(),\n",
        "Dense(10, activation='softmax')])"
      ],
      "metadata": {
        "id": "WmpGB4tzTNjg"
      },
      "execution_count": 11,
      "outputs": []
    },
    {
      "cell_type": "code",
      "source": [
        "model_topleft.compile(optimizer='adam', loss='categorical_crossentropy', metrics=['accuracy'])"
      ],
      "metadata": {
        "id": "_y6VXJNGTtdu"
      },
      "execution_count": 12,
      "outputs": []
    },
    {
      "cell_type": "code",
      "source": [
        "model_bottomleft = Sequential([\n",
        "Conv2D(32, kernel_size=3, activation='relu', input_shape=(14, 14, 1)),\n",
        "Conv2D(64, kernel_size=3, activation='relu'),\n",
        "Flatten(),\n",
        "Dense(10, activation='softmax')])\n",
        "model_bottomleft.compile(optimizer='adam', loss='categorical_crossentropy', metrics=['accuracy'])"
      ],
      "metadata": {
        "id": "eF1XF8J0p2T0"
      },
      "execution_count": 13,
      "outputs": []
    },
    {
      "cell_type": "code",
      "source": [
        "model_topright = Sequential([\n",
        "Conv2D(32, kernel_size=3, activation='relu', input_shape=(28, 14, 1)),\n",
        "Conv2D(64, kernel_size=3, activation='relu'),\n",
        "Flatten(),\n",
        "Dense(10, activation='softmax')])\n",
        "model_topright.compile(optimizer='adam', loss='categorical_crossentropy', metrics=['accuracy'])"
      ],
      "metadata": {
        "id": "RHzNj-LnpriA"
      },
      "execution_count": 14,
      "outputs": []
    },
    {
      "cell_type": "code",
      "source": [
        "model_bottomright = Sequential([\n",
        "Conv2D(32, kernel_size=3, activation='relu', input_shape=(28, 14, 1)),\n",
        "Conv2D(64, kernel_size=3, activation='relu'),\n",
        "Flatten(),\n",
        "Dense(10, activation='softmax')])\n",
        "model_bottomright.compile(optimizer='adam', loss='categorical_crossentropy', metrics=['accuracy'])"
      ],
      "metadata": {
        "id": "ePg3VlDCp7Eg"
      },
      "execution_count": 15,
      "outputs": []
    },
    {
      "cell_type": "code",
      "source": [
        "#Training the model on training data\n",
        "history = model_topleft.fit(x_train_topleft, y_train_topleft, validation_data=(x_test_topleft, y_test_topleft), epochs=3)"
      ],
      "metadata": {
        "colab": {
          "base_uri": "https://localhost:8080/"
        },
        "id": "pYBHKURkTxa0",
        "outputId": "bfc3610b-92ed-4510-dc70-027aa79dfb22"
      },
      "execution_count": 16,
      "outputs": [
        {
          "output_type": "stream",
          "name": "stdout",
          "text": [
            "Epoch 1/3\n",
            "1875/1875 [==============================] - 35s 18ms/step - loss: 0.9641 - accuracy: 0.6976 - val_loss: 0.7121 - val_accuracy: 0.7561\n",
            "Epoch 2/3\n",
            "1875/1875 [==============================] - 39s 21ms/step - loss: 0.7183 - accuracy: 0.7550 - val_loss: 0.6816 - val_accuracy: 0.7677\n",
            "Epoch 3/3\n",
            "1875/1875 [==============================] - 34s 18ms/step - loss: 0.6686 - accuracy: 0.7709 - val_loss: 0.7135 - val_accuracy: 0.7608\n"
          ]
        }
      ]
    },
    {
      "cell_type": "code",
      "source": [
        "history = model_bottomleft.fit(x_train_bottomleft, y_train_bottomleft, validation_data=(x_test_bottomleft, y_test_bottomleft), epochs=3)"
      ],
      "metadata": {
        "colab": {
          "base_uri": "https://localhost:8080/"
        },
        "id": "VlOlNo3ksRPP",
        "outputId": "279ed9d4-026e-44e6-96dd-13324e53514e"
      },
      "execution_count": null,
      "outputs": [
        {
          "output_type": "stream",
          "name": "stdout",
          "text": [
            "Epoch 1/3\n",
            "1875/1875 [==============================] - 39s 21ms/step - loss: 0.7132 - accuracy: 0.7754 - val_loss: 0.5278 - val_accuracy: 0.7977\n",
            "Epoch 2/3\n",
            "1875/1875 [==============================] - 35s 18ms/step - loss: 0.4756 - accuracy: 0.8252 - val_loss: 0.4984 - val_accuracy: 0.8128\n",
            "Epoch 3/3\n",
            "1875/1875 [==============================] - 35s 18ms/step - loss: 0.4389 - accuracy: 0.8386 - val_loss: 0.4902 - val_accuracy: 0.8234\n"
          ]
        }
      ]
    },
    {
      "cell_type": "code",
      "source": [
        "history = model_left.fit(x_train_left, y_train_left, validation_data=(x_test_left, y_test_left), epochs=3)"
      ],
      "metadata": {
        "colab": {
          "base_uri": "https://localhost:8080/"
        },
        "id": "XTfHdSOCsb0A",
        "outputId": "ba041822-a269-4d4a-fe28-808c4dce8ee0"
      },
      "execution_count": null,
      "outputs": [
        {
          "output_type": "stream",
          "name": "stdout",
          "text": [
            "Epoch 1/3\n",
            "1875/1875 [==============================] - 73s 39ms/step - loss: 0.3975 - accuracy: 0.9088 - val_loss: 10.4701 - val_accuracy: 0.1000\n",
            "Epoch 2/3\n",
            "1875/1875 [==============================] - 75s 40ms/step - loss: 0.1759 - accuracy: 0.9456 - val_loss: 11.9245 - val_accuracy: 0.1016\n",
            "Epoch 3/3\n",
            "1875/1875 [==============================] - 73s 39ms/step - loss: 0.1430 - accuracy: 0.9553 - val_loss: 13.6615 - val_accuracy: 0.1011\n"
          ]
        }
      ]
    },
    {
      "cell_type": "code",
      "source": [
        "history = model_right.fit(x_train_right, y_train_right, validation_data=(x_test_right, y_test_right), epochs=3)"
      ],
      "metadata": {
        "colab": {
          "base_uri": "https://localhost:8080/"
        },
        "id": "TfmjvEIyscnV",
        "outputId": "d953d483-9247-413e-e721-ac7aa5257b6b"
      },
      "execution_count": null,
      "outputs": [
        {
          "output_type": "stream",
          "name": "stdout",
          "text": [
            "Epoch 1/3\n",
            "1875/1875 [==============================] - 75s 40ms/step - loss: 0.4287 - accuracy: 0.8910 - val_loss: 10.0407 - val_accuracy: 0.1019\n",
            "Epoch 2/3\n",
            "1875/1875 [==============================] - 78s 41ms/step - loss: 0.2108 - accuracy: 0.9305 - val_loss: 10.6926 - val_accuracy: 0.1006\n",
            "Epoch 3/3\n",
            "1875/1875 [==============================] - 75s 40ms/step - loss: 0.1752 - accuracy: 0.9424 - val_loss: 13.2140 - val_accuracy: 0.1004\n"
          ]
        }
      ]
    },
    {
      "cell_type": "code",
      "source": [
        "model_topleft.save(\"/content/drive/MyDrive/trained_model_topleft.h5\")"
      ],
      "metadata": {
        "id": "vMzOoP1yZFs0"
      },
      "execution_count": 18,
      "outputs": []
    },
    {
      "cell_type": "code",
      "source": [
        "model_bottomleft.save(\"/content/drive/MyDrive/trained_model_bottomleft.h5\")"
      ],
      "metadata": {
        "id": "Tx9BzQBisZnY"
      },
      "execution_count": null,
      "outputs": []
    },
    {
      "cell_type": "code",
      "source": [
        "model_left.save(\"/content/drive/MyDrive/trained_model_left.h5\")"
      ],
      "metadata": {
        "id": "SyIPW7fJvFsb"
      },
      "execution_count": null,
      "outputs": []
    },
    {
      "cell_type": "code",
      "source": [
        "model_right.save(\"/content/drive/MyDrive/trained_model_right.h5\")"
      ],
      "metadata": {
        "id": "3yMqPSBCvIxS"
      },
      "execution_count": null,
      "outputs": []
    },
    {
      "cell_type": "code",
      "source": [
        "from google.colab import drive\n",
        "drive.mount('/content/drive')"
      ],
      "metadata": {
        "colab": {
          "base_uri": "https://localhost:8080/",
          "height": 353
        },
        "id": "lFCwQBizW0zn",
        "outputId": "cd4d8718-2ffe-4109-d244-616818aacea6"
      },
      "execution_count": null,
      "outputs": [
        {
          "output_type": "error",
          "ename": "ValueError",
          "evalue": "ignored",
          "traceback": [
            "\u001b[0;31m---------------------------------------------------------------------------\u001b[0m",
            "\u001b[0;31mValueError\u001b[0m                                Traceback (most recent call last)",
            "\u001b[0;32m<ipython-input-51-d5df0069828e>\u001b[0m in \u001b[0;36m<module>\u001b[0;34m\u001b[0m\n\u001b[1;32m      1\u001b[0m \u001b[0;32mfrom\u001b[0m \u001b[0mgoogle\u001b[0m\u001b[0;34m.\u001b[0m\u001b[0mcolab\u001b[0m \u001b[0;32mimport\u001b[0m \u001b[0mdrive\u001b[0m\u001b[0;34m\u001b[0m\u001b[0;34m\u001b[0m\u001b[0m\n\u001b[0;32m----> 2\u001b[0;31m \u001b[0mdrive\u001b[0m\u001b[0;34m.\u001b[0m\u001b[0mmount\u001b[0m\u001b[0;34m(\u001b[0m\u001b[0;34m'/content/drive'\u001b[0m\u001b[0;34m)\u001b[0m\u001b[0;34m\u001b[0m\u001b[0;34m\u001b[0m\u001b[0m\n\u001b[0m",
            "\u001b[0;32m/usr/local/lib/python3.8/dist-packages/google/colab/drive.py\u001b[0m in \u001b[0;36mmount\u001b[0;34m(mountpoint, force_remount, timeout_ms, readonly)\u001b[0m\n\u001b[1;32m     99\u001b[0m \u001b[0;32mdef\u001b[0m \u001b[0mmount\u001b[0m\u001b[0;34m(\u001b[0m\u001b[0mmountpoint\u001b[0m\u001b[0;34m,\u001b[0m \u001b[0mforce_remount\u001b[0m\u001b[0;34m=\u001b[0m\u001b[0;32mFalse\u001b[0m\u001b[0;34m,\u001b[0m \u001b[0mtimeout_ms\u001b[0m\u001b[0;34m=\u001b[0m\u001b[0;36m120000\u001b[0m\u001b[0;34m,\u001b[0m \u001b[0mreadonly\u001b[0m\u001b[0;34m=\u001b[0m\u001b[0;32mFalse\u001b[0m\u001b[0;34m)\u001b[0m\u001b[0;34m:\u001b[0m\u001b[0;34m\u001b[0m\u001b[0;34m\u001b[0m\u001b[0m\n\u001b[1;32m    100\u001b[0m   \u001b[0;34m\"\"\"Mount your Google Drive at the specified mountpoint path.\"\"\"\u001b[0m\u001b[0;34m\u001b[0m\u001b[0;34m\u001b[0m\u001b[0m\n\u001b[0;32m--> 101\u001b[0;31m   return _mount(\n\u001b[0m\u001b[1;32m    102\u001b[0m       \u001b[0mmountpoint\u001b[0m\u001b[0;34m,\u001b[0m\u001b[0;34m\u001b[0m\u001b[0;34m\u001b[0m\u001b[0m\n\u001b[1;32m    103\u001b[0m       \u001b[0mforce_remount\u001b[0m\u001b[0;34m=\u001b[0m\u001b[0mforce_remount\u001b[0m\u001b[0;34m,\u001b[0m\u001b[0;34m\u001b[0m\u001b[0;34m\u001b[0m\u001b[0m\n",
            "\u001b[0;32m/usr/local/lib/python3.8/dist-packages/google/colab/drive.py\u001b[0m in \u001b[0;36m_mount\u001b[0;34m(mountpoint, force_remount, timeout_ms, ephemeral, readonly)\u001b[0m\n\u001b[1;32m    182\u001b[0m       \u001b[0;32mraise\u001b[0m \u001b[0mValueError\u001b[0m\u001b[0;34m(\u001b[0m\u001b[0;34m'Mountpoint must not be a symlink'\u001b[0m\u001b[0;34m)\u001b[0m\u001b[0;34m\u001b[0m\u001b[0;34m\u001b[0m\u001b[0m\n\u001b[1;32m    183\u001b[0m     \u001b[0;32mif\u001b[0m \u001b[0m_os\u001b[0m\u001b[0;34m.\u001b[0m\u001b[0mpath\u001b[0m\u001b[0;34m.\u001b[0m\u001b[0misdir\u001b[0m\u001b[0;34m(\u001b[0m\u001b[0mmountpoint\u001b[0m\u001b[0;34m)\u001b[0m \u001b[0;32mand\u001b[0m \u001b[0m_os\u001b[0m\u001b[0;34m.\u001b[0m\u001b[0mlistdir\u001b[0m\u001b[0;34m(\u001b[0m\u001b[0mmountpoint\u001b[0m\u001b[0;34m)\u001b[0m\u001b[0;34m:\u001b[0m\u001b[0;34m\u001b[0m\u001b[0;34m\u001b[0m\u001b[0m\n\u001b[0;32m--> 184\u001b[0;31m       \u001b[0;32mraise\u001b[0m \u001b[0mValueError\u001b[0m\u001b[0;34m(\u001b[0m\u001b[0;34m'Mountpoint must not already contain files'\u001b[0m\u001b[0;34m)\u001b[0m\u001b[0;34m\u001b[0m\u001b[0;34m\u001b[0m\u001b[0m\n\u001b[0m\u001b[1;32m    185\u001b[0m     \u001b[0;32mif\u001b[0m \u001b[0;32mnot\u001b[0m \u001b[0m_os\u001b[0m\u001b[0;34m.\u001b[0m\u001b[0mpath\u001b[0m\u001b[0;34m.\u001b[0m\u001b[0misdir\u001b[0m\u001b[0;34m(\u001b[0m\u001b[0mmountpoint\u001b[0m\u001b[0;34m)\u001b[0m \u001b[0;32mand\u001b[0m \u001b[0m_os\u001b[0m\u001b[0;34m.\u001b[0m\u001b[0mpath\u001b[0m\u001b[0;34m.\u001b[0m\u001b[0mexists\u001b[0m\u001b[0;34m(\u001b[0m\u001b[0mmountpoint\u001b[0m\u001b[0;34m)\u001b[0m\u001b[0;34m:\u001b[0m\u001b[0;34m\u001b[0m\u001b[0;34m\u001b[0m\u001b[0m\n\u001b[1;32m    186\u001b[0m       \u001b[0;32mraise\u001b[0m \u001b[0mValueError\u001b[0m\u001b[0;34m(\u001b[0m\u001b[0;34m'Mountpoint must either be a directory or not exist'\u001b[0m\u001b[0;34m)\u001b[0m\u001b[0;34m\u001b[0m\u001b[0;34m\u001b[0m\u001b[0m\n",
            "\u001b[0;31mValueError\u001b[0m: Mountpoint must not already contain files"
          ]
        }
      ]
    },
    {
      "cell_type": "code",
      "source": [],
      "metadata": {
        "id": "bHBY1UP26A74"
      },
      "execution_count": null,
      "outputs": []
    }
  ]
}